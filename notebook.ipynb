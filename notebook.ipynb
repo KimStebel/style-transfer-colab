{
  "nbformat": 4,
  "nbformat_minor": 0,
  "metadata": {
    "colab": {
      "name": "Neural-Style-Transfer-Notebook.ipynb",
      "provenance": [],
      "collapsed_sections": [],
      "include_colab_link": true
    },
    "kernelspec": {
      "name": "python3",
      "display_name": "Python 3"
    },
    "accelerator": "GPU"
  },
  "cells": [
    {
      "cell_type": "markdown",
      "metadata": {
        "id": "view-in-github",
        "colab_type": "text"
      },
      "source": [
        "<a href=\"https://colab.research.google.com/github/KimStebel/style-transfer-colab/blob/master/notebook.ipynb\" target=\"_parent\"><img src=\"https://colab.research.google.com/assets/colab-badge.svg\" alt=\"Open In Colab\"/></a>"
      ]
    },
    {
      "cell_type": "markdown",
      "metadata": {
        "id": "LMqjDQt9aj04"
      },
      "source": [
        "# Download Dependencies to Google Colab Environment\n",
        "\n",
        "This may take several minutes but needs to only be run once per session. Every Google Colab session has temporary storage for assets such as images and scripts. When the session is closed these objects will be removed but the notebook will remain intact.\n",
        "\n",
        "1.   neural_style.py\n",
        "2.   ImageNet\n",
        "\n",
        "\n",
        "Run the cell below to download necessary dependencies. It also includes a utility function for downloading images."
      ]
    },
    {
      "cell_type": "code",
      "metadata": {
        "id": "jp8Xj6yhaN90",
        "colab": {
          "base_uri": "https://localhost:8080/"
        },
        "outputId": "52f6d008-a054-4a4f-ad1c-c42493983ec0"
      },
      "source": [
        "%tensorflow_version 1.x\n",
        "\n",
        "#Download ImageNet VGG Very Deep\n",
        "#VGG-VD models from the Very Deep Convolutional Networks for Large-Scale Visual Recognition project.\n",
        "!wget --output-document=imagenet-vgg-verydeep-19.mat 'https://storage.googleapis.com/marketing-files/colab-notebooks/style-transfer/imagenet-vgg-verydeep-19.mat'\n",
        "\n",
        "import re\n",
        "import urllib.request\n",
        "\n",
        "def download_image_from_URL(imageURL):\n",
        "  imageName = re.search('[a-z0-9\\-]+\\.(jpe?g|png|gif|bmp)', imageURL, re.IGNORECASE)\n",
        "  imageName = imageName.group(0)\n",
        "  urllib.request.urlretrieve(imageURL, imageName)\n",
        "  imagePath = \"./\" + imageName\n",
        "  return imagePath\n",
        "\n",
        "  "
      ],
      "execution_count": 4,
      "outputs": [
        {
          "output_type": "stream",
          "name": "stdout",
          "text": [
            "--2021-11-20 18:15:15--  https://raw.githubusercontent.com/KimStebel/neural-style-tf/a2c374f9ee2938f0022e1e0b720f4eb28cf7d0a8/neural_style.py\n",
            "Resolving raw.githubusercontent.com (raw.githubusercontent.com)... 185.199.108.133, 185.199.109.133, 185.199.111.133, ...\n",
            "Connecting to raw.githubusercontent.com (raw.githubusercontent.com)|185.199.108.133|:443... connected.\n",
            "HTTP request sent, awaiting response... 200 OK\n",
            "Length: 30651 (30K) [text/plain]\n",
            "Saving to: ‘neural_style.py’\n",
            "\n",
            "\rneural_style.py       0%[                    ]       0  --.-KB/s               \rneural_style.py     100%[===================>]  29.93K  --.-KB/s    in 0s      \n",
            "\n",
            "2021-11-20 18:15:15 (99.6 MB/s) - ‘neural_style.py’ saved [30651/30651]\n",
            "\n",
            "--2021-11-20 18:15:15--  https://storage.googleapis.com/marketing-files/colab-notebooks/style-transfer/imagenet-vgg-verydeep-19.mat\n",
            "Resolving storage.googleapis.com (storage.googleapis.com)... 142.250.145.128, 74.125.143.128, 173.194.79.128, ...\n",
            "Connecting to storage.googleapis.com (storage.googleapis.com)|142.250.145.128|:443... connected.\n",
            "HTTP request sent, awaiting response... 200 OK\n",
            "Length: 534904783 (510M) [application/octet-stream]\n",
            "Saving to: ‘imagenet-vgg-verydeep-19.mat’\n",
            "\n",
            "imagenet-vgg-veryde 100%[===================>] 510.12M  62.5MB/s    in 9.2s    \n",
            "\n",
            "2021-11-20 18:15:25 (55.4 MB/s) - ‘imagenet-vgg-verydeep-19.mat’ saved [534904783/534904783]\n",
            "\n"
          ]
        }
      ]
    },
    {
      "cell_type": "code",
      "metadata": {
        "id": "zP9XEPYjk-fI"
      },
      "source": [
        "%tensorflow_version 1.x\n",
        "\n",
        "#Download neural_style.py\n",
        "\n",
        "!wget --output-document=neural_style.py 'https://raw.githubusercontent.com/KimStebel/neural-style-tf/a2c374f9ee2938f0022e1e0b720f4eb28cf7d0a8/neural_style.py'\n",
        "#!wget --output-document=neural_style.py 'https://raw.githubusercontent.com/KimStebel/neural-style-tf/master/neural_style.py'\n"
      ],
      "execution_count": null,
      "outputs": []
    },
    {
      "cell_type": "markdown",
      "metadata": {
        "id": "jjzd_wb9abfU"
      },
      "source": [
        "# Stylize an Image"
      ]
    },
    {
      "cell_type": "code",
      "metadata": {
        "id": "8TJIojDeEOAR",
        "colab": {
          "base_uri": "https://localhost:8080/"
        },
        "outputId": "7eab06a5-982e-479c-9121-abc714ba1699"
      },
      "source": [
        "%tensorflow_version 1.x\n",
        "from IPython.display import Image\n",
        "\n",
        "! python3 neural_style.py --content_img_dir ./ --style_imgs_dir ./ --img_output_dir ./ --device /gpu:0 --img_name output --init_img_type random --max_iterations 1000 --max_size 1080 --content_img Chief-Keef.png --style_imgs jack.jpg --style_imgs_weights 1 --content_weight 1 --style_layer_weights 0.25 0.25 0.25 0.25 0.0 ; # default weights tbd\n",
        "\n",
        "#    --original_colors \\\n",
        "\n",
        "# Print Final Image\n",
        "Image('./output/output.png')"
      ],
      "execution_count": null,
      "outputs": [
        {
          "output_type": "stream",
          "name": "stdout",
          "text": [
            "\n",
            "---- RENDERING SINGLE IMAGE ----\n",
            "\n",
            "WARNING:tensorflow:From neural_style.py:550: The name tf.Session is deprecated. Please use tf.compat.v1.Session instead.\n",
            "\n",
            "2021-11-20 18:19:45.280471: I tensorflow/stream_executor/platform/default/dso_loader.cc:44] Successfully opened dynamic library libcuda.so.1\n",
            "2021-11-20 18:19:45.296773: I tensorflow/stream_executor/cuda/cuda_gpu_executor.cc:983] successful NUMA node read from SysFS had negative value (-1), but there must be at least one NUMA node, so returning NUMA node zero\n",
            "2021-11-20 18:19:45.297352: I tensorflow/core/common_runtime/gpu/gpu_device.cc:1639] Found device 0 with properties: \n",
            "name: Tesla P100-PCIE-16GB major: 6 minor: 0 memoryClockRate(GHz): 1.3285\n",
            "pciBusID: 0000:00:04.0\n",
            "2021-11-20 18:19:45.297637: I tensorflow/stream_executor/platform/default/dso_loader.cc:44] Successfully opened dynamic library libcudart.so.10.1\n",
            "2021-11-20 18:19:45.299164: I tensorflow/stream_executor/platform/default/dso_loader.cc:44] Successfully opened dynamic library libcublas.so.10\n",
            "2021-11-20 18:19:45.300044: I tensorflow/stream_executor/platform/default/dso_loader.cc:44] Successfully opened dynamic library libcufft.so.10\n",
            "2021-11-20 18:19:45.300335: I tensorflow/stream_executor/platform/default/dso_loader.cc:44] Successfully opened dynamic library libcurand.so.10\n",
            "2021-11-20 18:19:45.301831: I tensorflow/stream_executor/platform/default/dso_loader.cc:44] Successfully opened dynamic library libcusolver.so.10\n",
            "2021-11-20 18:19:45.302533: I tensorflow/stream_executor/platform/default/dso_loader.cc:44] Successfully opened dynamic library libcusparse.so.10\n",
            "2021-11-20 18:19:45.305484: I tensorflow/stream_executor/platform/default/dso_loader.cc:44] Successfully opened dynamic library libcudnn.so.7\n",
            "2021-11-20 18:19:45.305596: I tensorflow/stream_executor/cuda/cuda_gpu_executor.cc:983] successful NUMA node read from SysFS had negative value (-1), but there must be at least one NUMA node, so returning NUMA node zero\n",
            "2021-11-20 18:19:45.306189: I tensorflow/stream_executor/cuda/cuda_gpu_executor.cc:983] successful NUMA node read from SysFS had negative value (-1), but there must be at least one NUMA node, so returning NUMA node zero\n",
            "2021-11-20 18:19:45.306695: I tensorflow/core/common_runtime/gpu/gpu_device.cc:1767] Adding visible gpu devices: 0\n",
            "2021-11-20 18:19:45.307036: I tensorflow/core/platform/cpu_feature_guard.cc:142] Your CPU supports instructions that this TensorFlow binary was not compiled to use: AVX512F\n",
            "2021-11-20 18:19:45.310748: I tensorflow/core/platform/profile_utils/cpu_utils.cc:94] CPU Frequency: 2000179999 Hz\n",
            "2021-11-20 18:19:45.311083: I tensorflow/compiler/xla/service/service.cc:168] XLA service 0x55de16700bc0 initialized for platform Host (this does not guarantee that XLA will be used). Devices:\n",
            "2021-11-20 18:19:45.311112: I tensorflow/compiler/xla/service/service.cc:176]   StreamExecutor device (0): Host, Default Version\n",
            "2021-11-20 18:19:45.380854: I tensorflow/stream_executor/cuda/cuda_gpu_executor.cc:983] successful NUMA node read from SysFS had negative value (-1), but there must be at least one NUMA node, so returning NUMA node zero\n",
            "2021-11-20 18:19:45.381547: I tensorflow/compiler/xla/service/service.cc:168] XLA service 0x55de16700d80 initialized for platform CUDA (this does not guarantee that XLA will be used). Devices:\n",
            "2021-11-20 18:19:45.381582: I tensorflow/compiler/xla/service/service.cc:176]   StreamExecutor device (0): Tesla P100-PCIE-16GB, Compute Capability 6.0\n",
            "2021-11-20 18:19:45.381792: I tensorflow/stream_executor/cuda/cuda_gpu_executor.cc:983] successful NUMA node read from SysFS had negative value (-1), but there must be at least one NUMA node, so returning NUMA node zero\n",
            "2021-11-20 18:19:45.382327: I tensorflow/core/common_runtime/gpu/gpu_device.cc:1639] Found device 0 with properties: \n",
            "name: Tesla P100-PCIE-16GB major: 6 minor: 0 memoryClockRate(GHz): 1.3285\n",
            "pciBusID: 0000:00:04.0\n",
            "2021-11-20 18:19:45.382403: I tensorflow/stream_executor/platform/default/dso_loader.cc:44] Successfully opened dynamic library libcudart.so.10.1\n",
            "2021-11-20 18:19:45.382427: I tensorflow/stream_executor/platform/default/dso_loader.cc:44] Successfully opened dynamic library libcublas.so.10\n",
            "2021-11-20 18:19:45.382459: I tensorflow/stream_executor/platform/default/dso_loader.cc:44] Successfully opened dynamic library libcufft.so.10\n",
            "2021-11-20 18:19:45.382478: I tensorflow/stream_executor/platform/default/dso_loader.cc:44] Successfully opened dynamic library libcurand.so.10\n",
            "2021-11-20 18:19:45.382497: I tensorflow/stream_executor/platform/default/dso_loader.cc:44] Successfully opened dynamic library libcusolver.so.10\n",
            "2021-11-20 18:19:45.382518: I tensorflow/stream_executor/platform/default/dso_loader.cc:44] Successfully opened dynamic library libcusparse.so.10\n",
            "2021-11-20 18:19:45.382540: I tensorflow/stream_executor/platform/default/dso_loader.cc:44] Successfully opened dynamic library libcudnn.so.7\n",
            "2021-11-20 18:19:45.382613: I tensorflow/stream_executor/cuda/cuda_gpu_executor.cc:983] successful NUMA node read from SysFS had negative value (-1), but there must be at least one NUMA node, so returning NUMA node zero\n",
            "2021-11-20 18:19:45.383215: I tensorflow/stream_executor/cuda/cuda_gpu_executor.cc:983] successful NUMA node read from SysFS had negative value (-1), but there must be at least one NUMA node, so returning NUMA node zero\n",
            "2021-11-20 18:19:45.383722: I tensorflow/core/common_runtime/gpu/gpu_device.cc:1767] Adding visible gpu devices: 0\n",
            "2021-11-20 18:19:45.383806: I tensorflow/stream_executor/platform/default/dso_loader.cc:44] Successfully opened dynamic library libcudart.so.10.1\n",
            "2021-11-20 18:19:45.384834: I tensorflow/core/common_runtime/gpu/gpu_device.cc:1180] Device interconnect StreamExecutor with strength 1 edge matrix:\n",
            "2021-11-20 18:19:45.384860: I tensorflow/core/common_runtime/gpu/gpu_device.cc:1186]      0 \n",
            "2021-11-20 18:19:45.384874: I tensorflow/core/common_runtime/gpu/gpu_device.cc:1199] 0:   N \n",
            "2021-11-20 18:19:45.384990: I tensorflow/stream_executor/cuda/cuda_gpu_executor.cc:983] successful NUMA node read from SysFS had negative value (-1), but there must be at least one NUMA node, so returning NUMA node zero\n",
            "2021-11-20 18:19:45.385556: I tensorflow/stream_executor/cuda/cuda_gpu_executor.cc:983] successful NUMA node read from SysFS had negative value (-1), but there must be at least one NUMA node, so returning NUMA node zero\n",
            "2021-11-20 18:19:45.386089: W tensorflow/core/common_runtime/gpu/gpu_bfc_allocator.cc:39] Overriding allow_growth setting because the TF_FORCE_GPU_ALLOW_GROWTH environment variable is set. Original config value was 0.\n",
            "2021-11-20 18:19:45.386130: I tensorflow/core/common_runtime/gpu/gpu_device.cc:1325] Created TensorFlow device (/job:localhost/replica:0/task:0/device:GPU:0 with 15224 MB memory) -> physical GPU (device: 0, name: Tesla P100-PCIE-16GB, pci bus id: 0000:00:04.0, compute capability: 6.0)\n",
            "WARNING:tensorflow:From neural_style.py:325: The name tf.nn.avg_pool is deprecated. Please use tf.nn.avg_pool2d instead.\n",
            "\n",
            "2021-11-20 18:19:50.042727: I tensorflow/stream_executor/platform/default/dso_loader.cc:44] Successfully opened dynamic library libcudnn.so.7\n",
            "2021-11-20 18:19:50.743630: I tensorflow/stream_executor/platform/default/dso_loader.cc:44] Successfully opened dynamic library libcublas.so.10\n",
            "WARNING:tensorflow:\n",
            "The TensorFlow contrib module will not be included in TensorFlow 2.0.\n",
            "For more information, please see:\n",
            "  * https://github.com/tensorflow/community/blob/master/rfcs/20180907-contrib-sunset.md\n",
            "  * https://github.com/tensorflow/addons\n",
            "  * https://github.com/tensorflow/io (for I/O related ops)\n",
            "If you depend on functionality not listed there, please file an issue.\n",
            "\n",
            "WARNING:tensorflow:From /tensorflow-1.15.2/python3.7/tensorflow_core/python/ops/math_grad.py:1375: where (from tensorflow.python.ops.array_ops) is deprecated and will be removed in a future version.\n",
            "Instructions for updating:\n",
            "Use tf.where in 2.0, which has the same broadcast rule as np.where\n"
          ]
        }
      ]
    }
  ]
}